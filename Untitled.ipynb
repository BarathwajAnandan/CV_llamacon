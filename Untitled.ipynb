{
 "cells": [
  {
   "cell_type": "code",
   "execution_count": null,
   "id": "cf142a0e-e833-49bd-8087-c10b0c6786eb",
   "metadata": {},
   "outputs": [],
   "source": [
    "from transformers import AutoProcessor, Llama4ForConditionalGeneration\n",
    "import torch\n",
    "\n",
    "router_probs = []\n",
    "model_id = \"meta-llama/Llama-4-Scout-17B-16E-Instruct\"\n",
    "\n",
    "processor = AutoProcessor.from_pretrained(model_id)\n",
    "\n",
    "model = Llama4ForConditionalGeneration.from_pretrained(\n",
    "   model_id,\n",
    "   attn_implementation=\"sdpa\",\n",
    "   device_map=\"auto\",\n",
    "   torch_dtype=torch.bfloat16,\n",
    ")\n",
    "\n",
    "for name, module in model.named_modules():\n",
    "    if \"router\" in name.lower():\n",
    "        module.register_forward_hook(hook_fn)"
   ]
  },
  {
   "cell_type": "code",
   "execution_count": 3,
   "id": "772026cc-e141-4cb9-af76-5da2bbcdf038",
   "metadata": {},
   "outputs": [],
   "source": [
    "def hook_fn(module, input, output):\n",
    "    # Capture the softmax probabilities\n",
    "    router_probs.append(output[1].detach().cpu())  # Assuming output[1] contains routing weights\n",
    "\n",
    "messages = [\n",
    "    {\n",
    "        \"role\": \"user\",\n",
    "        \"content\": [\n",
    "            {\"type\": \"text\", \"text\": \"what is your name. tell me properly\"},\n",
    "        ]\n",
    "    },\n",
    "]"
   ]
  },
  {
   "cell_type": "code",
   "execution_count": 4,
   "id": "49806153-3047-4a53-b6c6-0c8db90eb6c0",
   "metadata": {},
   "outputs": [],
   "source": [
    "inputs = processor.apply_chat_template(\n",
    "    messages,\n",
    "    add_generation_prompt=True,\n",
    "    tokenize=True,\n",
    "    return_dict=True,\n",
    "    return_tensors=\"pt\",\n",
    ").to(model.device)"
   ]
  },
  {
   "cell_type": "code",
   "execution_count": null,
   "id": "45d3ca4f-0654-4eba-9c38-89ccafdc9f6a",
   "metadata": {},
   "outputs": [],
   "source": [
    "outputs = model.generate(\n",
    " **inputs,\n",
    "    max_new_tokens=1024,\n",
    ")\n",
    "\n",
    "response = processor.batch_decode(outputs[:, inputs[\"input_ids\"].shape[-1]:])[0]\n",
    "print(response)"
   ]
  },
  {
   "cell_type": "code",
   "execution_count": null,
   "id": "b83c74a9-f2d0-4af8-9fe7-6d75c11ba42d",
   "metadata": {},
   "outputs": [
    {
     "name": "stdout",
     "output_type": "stream",
     "text": [
      "Nice to meet you! I don't have a personal name in the classical sense, but I'm often referred to as a conversational AI or a chatbot. My creators at Meta call me \"LLaMA\" ( Large Language Model Application). However, you can think of me as a friendly AI assistant, and I'm here to help you with any questions or topics you'd like to discuss!\n",
      "\n",
      "If you'd like, you can give me a nickname or a name of your choice. I'm here to assist and chat with you, and I don't have a fixed name. Feel free to call me AI, Assistant, or whatever you prefer!<|eot|>\n"
     ]
    }
   ],
   "source": [
    "from transformers import AutoProcessor, Llama4ForConditionalGeneration\n",
    "import torch\n",
    "\n",
    "model_id = \"meta-llama/Llama-4-Scout-17B-16E-Instruct\"\n",
    "processor = AutoProcessor.from_pretrained(model_id)\n",
    "model = Llama4ForConditionalGeneration.from_pretrained(\n",
    "   model_id,\n",
    "   attn_implementation=\"sdpa\",\n",
    "   device_map=\"auto\",\n",
    "   torch_dtype=torch.bfloat16,\n",
    ")\n",
    "\n",
    "# Create a hook to capture router probabilities\n",
    "router_probs = []\n",
    "\n",
    "def hook_fn(module, input, output):\n",
    "    # Capture the softmax probabilities\n",
    "    router_probs.append(output[1].detach().cpu())  # Assuming output[1] contains routing weights\n",
    "\n",
    "# Register hooks on MoE layers\n",
    "for name, module in model.named_modules():\n",
    "    if \"router\" in name.lower():\n",
    "        module.register_forward_hook(hook_fn)\n",
    "\n",
    "# Process some text\n",
    "inputs = processor(\"What is the capital of France?\", return_tensors=\"pt\").to(model.device)\n",
    "outputs = model.generate(**inputs, max_new_tokens=30)\n",
    "\n",
    "# Print the captured router probabilities\n",
    "for idx, probs in enumerate(router_probs):\n",
    "    print(f\"Layer {idx} router probabilities:\")\n",
    "    print(f\"Shape: {probs.shape}\")\n",
    "    print(f\"Top-5 values per token: {torch.topk(probs, 5, dim=-1).values}\")\n",
    "    print(f\"Top-5 indices per token: {torch.topk(probs, 5, dim=-1).indices}\")"
   ]
  }
 ],
 "metadata": {
  "kernelspec": {
   "display_name": "Python 3 (ipykernel)",
   "language": "python",
   "name": "python3"
  },
  "language_info": {
   "codemirror_mode": {
    "name": "ipython",
    "version": 3
   },
   "file_extension": ".py",
   "mimetype": "text/x-python",
   "name": "python",
   "nbconvert_exporter": "python",
   "pygments_lexer": "ipython3",
   "version": "3.10.12"
  }
 },
 "nbformat": 4,
 "nbformat_minor": 5
}
